{
 "cells": [
  {
   "attachments": {},
   "cell_type": "markdown",
   "metadata": {},
   "source": [
    "# paper acceptance prediction\n",
    "Aristoi"
   ]
  },
  {
   "cell_type": "code",
   "execution_count": 83,
   "metadata": {},
   "outputs": [],
   "source": [
    "import pandas as pd\n",
    "import numpy as np\n",
    "import re\n",
    "from collections import Counter\n",
    "import itertools\n",
    "import gensim\n",
    "import matplotlib.pyplot as plt\n",
    "import torch\n",
    "from torch import nn\n",
    "from torch.utils.data import Dataset\n",
    "from torch.utils.data import DataLoader\n",
    "from torch.nn.utils.rnn import pad_sequence\n",
    "from tqdm import tqdm\n"
   ]
  },
  {
   "cell_type": "code",
   "execution_count": 111,
   "metadata": {},
   "outputs": [],
   "source": [
    "def preprocessing(s):\n",
    "    s = re.sub(\"[0-9]+\", \"0\", s)\n",
    "\n",
    "    # リンク\n",
    "    s = re.sub('http:.* ', 'http ', s)\n",
    "    s = re.sub('https:.* ', 'https ', s)\n",
    "\n",
    "    # 記号\n",
    "    s = re.sub(r\"[\\\"\\'.,:;\\(\\)#\\|\\*\\+\\!\\?#$&/\\]\\[\\{\\}]\", \"\", s)\n",
    "    s = re.sub(\"-\", \" \", s)\n",
    "\n",
    "    \"\"\"\n",
    "    s = re.sub(\"[-:,]\", \" \", s)\n",
    "    s = re.sub(\".\", \"\", s)\n",
    "    s = re.sub(\"\\?\", \" \\?\", s)\n",
    "    s = re.sub('\"', ' \" ', s)\n",
    "    s = re.sub('\\(', ' \\( ', s)\n",
    "    s = re.sub('\\)', ' \\) ', s)\n",
    "    s = re.sub(\"\\n\", \" \")\n",
    "    s = re.sub(\"\\r\", \" \")\n",
    "    s = re.sub(\"\\u3000\", \" \")  # 全角スペース\n",
    "    \"\"\"\n",
    "\n",
    "    # 固有名詞等の他は小文字化\n",
    "    if(sum(map(str.islower, s)) >= 2):\n",
    "        pass\n",
    "    else:\n",
    "        s = s.lower()\n",
    "\n",
    "    s = re.split(\" \", s)\n",
    "    s = [e for e in s if e != \"\"]\n",
    "    return s\n"
   ]
  },
  {
   "cell_type": "code",
   "execution_count": 159,
   "metadata": {},
   "outputs": [],
   "source": [
    "class Dataset(Dataset):\n",
    "    def __init__(self, X, y):\n",
    "        self.X = X\n",
    "        self.y = y\n",
    "\n",
    "    def __len__(self):\n",
    "        return len(self.X)\n",
    "    \n",
    "    def __getitem__(self, idx):\n",
    "        X = torch.tensor(self.X[idx])\n",
    "        y = torch.tensor(self.y[idx])\n",
    "        return X, y\n",
    "\n",
    "def collate_fn(batch):\n",
    "    sequences = [x[0] for x in batch]\n",
    "    y = torch.from_numpy(np.array([x[1] for x in batch]))\n",
    "    x = pad_sequence(sequences, batch_first=True, padding_value=0)\n",
    "    return x, y\n",
    "\n",
    "class Model(nn.Module):\n",
    "    def __init__(self, emb_dim, hidden_dim, output_dim, padding_idx, emb_weights):\n",
    "        super().__init__()\n",
    "        self.hidden_dim = hidden_dim\n",
    "        DROPOUT = 0.5\n",
    "\n",
    "        self.emb = nn.Embedding.from_pretrained(\n",
    "            emb_weights, padding_idx=padding_idx\n",
    "        )\n",
    "        self.drop1 = nn.Dropout(DROPOUT)\n",
    "        self.rnn = nn.LSTM(\n",
    "            input_size = emb_dim,\n",
    "            hidden_size = hidden_dim,\n",
    "            num_layers = 4,\n",
    "            batch_first=True,\n",
    "            bias=True\n",
    "        )\n",
    "        self.drop2 = nn.Dropout(DROPOUT)\n",
    "        self.l1 = nn.Linear(\n",
    "            in_features = hidden_dim,\n",
    "            out_features = output_dim,\n",
    "            bias = True\n",
    "        )\n",
    "\n",
    "    def forward(self, x, h_0=None):\n",
    "        x = self.emb(x)\n",
    "        x = self.drop1(x)\n",
    "        x, h = self.rnn(x, h_0)\n",
    "        x = x[:, -1, :]\n",
    "        x = self.drop2(x)\n",
    "        x = self.l1(x)\n",
    "        return x\n"
   ]
  },
  {
   "cell_type": "code",
   "execution_count": 160,
   "metadata": {},
   "outputs": [],
   "source": [
    "def train_loop(data, model, loss_fn, optimizer):\n",
    "    model.train()\n",
    "    total_loss = 0.0\n",
    "    correct = 0.0\n",
    "\n",
    "    for x, y in tqdm(data):\n",
    "        size = len(data.dataset)\n",
    "        \n",
    "        optimizer.zero_grad()\n",
    "        # x, y = x.to(device), y.to(device)\n",
    "        outputs = model(x)\n",
    "        loss = loss_fn(outputs, y)\n",
    "\n",
    "        optimizer.zero_grad()\n",
    "        loss.backward()\n",
    "        optimizer.step()\n",
    "\n",
    "        total_loss += loss.item()\n",
    "        correct += (outputs.argmax(-1).sum().item())\n",
    "\n",
    "    total_loss /= size\n",
    "    correct /= size\n",
    "    return total_loss, correct\n"
   ]
  },
  {
   "cell_type": "code",
   "execution_count": 151,
   "metadata": {},
   "outputs": [],
   "source": [
    "# データ読み込み\n",
    "emb_model = gensim.models.KeyedVectors.load_word2vec_format('GoogleNews-vectors-negative300.bin.gz', binary=True)\n",
    "\n",
    "train_filename = \"train_data.csv\"\n",
    "df_train = pd.read_csv(train_filename, index_col=\"id\")\n",
    "test_filename = \"test_data.csv\"\n",
    "df_test = pd.read_csv(test_filename, index_col=\"id\")"
   ]
  },
  {
   "cell_type": "code",
   "execution_count": 161,
   "metadata": {},
   "outputs": [
    {
     "name": "stdout",
     "output_type": "stream",
     "text": [
      "14798\n"
     ]
    }
   ],
   "source": [
    "# text2id\n",
    "\n",
    "train_text = df_train[\"title\"].str.cat(sep=\"\") + df_train[\"abstract\"].str.cat(sep=\"\")\n",
    "train_words = preprocessing(train_text)\n",
    "words_freq = Counter(itertools.chain(train_words))\n",
    "\n",
    "word_to_id = {}\n",
    "for i, word_uniq in enumerate(words_freq.most_common(), start=1):\n",
    "    if(word_uniq[1] < 2): \n",
    "        break\n",
    "    word_to_id.update({word_uniq[0]: i})\n",
    "\n",
    "print(len(word_to_id))\n",
    "\n",
    "def get_id_list(words):\n",
    "    ids = []\n",
    "    for word in words:\n",
    "        if(word in word_to_id.keys()):\n",
    "            id = word_to_id[word]\n",
    "        else:\n",
    "            id = 0\n",
    "        ids.append(id)\n",
    "    return ids"
   ]
  },
  {
   "cell_type": "code",
   "execution_count": 162,
   "metadata": {},
   "outputs": [],
   "source": [
    "# データ整形\n",
    "x_train = \"title \" + df_train[\"title\"] +\" abstract \" + df_train[\"abstract\"]\n",
    "x_train = x_train.map(preprocessing)\n",
    "x_train = x_train.map(get_id_list)\n",
    "x_train = np.array(x_train)\n",
    "\n",
    "y_train = df_train[\"y\"]\n",
    "y_train = np.array(y_train)\n",
    "\n",
    "x_test = \"title \" + df_test[\"title\"] +\" abstract \" + df_test[\"abstract\"]\n",
    "x_test = x_test.map(preprocessing)\n",
    "x_test = x_test.map(get_id_list)\n",
    "x_test = np.array(x_test)"
   ]
  },
  {
   "cell_type": "code",
   "execution_count": 163,
   "metadata": {},
   "outputs": [],
   "source": [
    "BATCH_SIZE = 1\n",
    "train_dataset = Dataset(x_train, y_train)\n",
    "train_loader = DataLoader(train_dataset, batch_size=BATCH_SIZE, collate_fn=collate_fn)\n",
    "\n",
    "VOCAB_SIZE = len(word_to_id)+1\n",
    "PADDING_IDX = 0\n",
    "EMB_DIM = 300\n",
    "HIDDEN_DIM = 50\n",
    "OUTPUT_DIM = 4\n",
    "LEARNING_RATE = 0.01\n",
    "EPOCH_SIZE = 30"
   ]
  },
  {
   "cell_type": "code",
   "execution_count": 164,
   "metadata": {},
   "outputs": [],
   "source": [
    "# 学習済み単語ベクトルの取得\n",
    "weights = np.zeros((VOCAB_SIZE, EMB_DIM))\n",
    "words_in_pretrained = 0\n",
    "for i, word in enumerate(word_to_id.keys()):\n",
    "    try:\n",
    "        weights[i] = emb_model[word]\n",
    "        words_in_pretrained += 1\n",
    "    except KeyError:\n",
    "        weights[i] = np.random.normal(scale=0.1, size=(EMB_DIM,))\n",
    "weights = torch.from_numpy(weights.astype((np.float32)))\n"
   ]
  },
  {
   "cell_type": "code",
   "execution_count": 165,
   "metadata": {},
   "outputs": [],
   "source": [
    "model = Model(emb_dim=EMB_DIM, hidden_dim=HIDDEN_DIM, output_dim=OUTPUT_DIM, padding_idx=PADDING_IDX, emb_weights=weights)\n",
    "loss_fn = nn.CrossEntropyLoss()\n",
    "\n",
    "optimizer = torch.optim.SGD(model.parameters(), lr=LEARNING_RATE)"
   ]
  },
  {
   "cell_type": "code",
   "execution_count": null,
   "metadata": {},
   "outputs": [],
   "source": [
    "# 学習\n",
    "train_loss_history = []\n",
    "train_acc_history = []\n",
    "for i in range(EPOCH_SIZE):\n",
    "    print(\"Epoch:\", i+1, \"--------------------------\")\n",
    "    loss, acc = train_loop(train_loader, model, loss_fn, optimizer)\n",
    "    print(\"train_acc: \", acc)\n",
    "    train_loss_history.append(loss)\n",
    "    train_acc_history.append(acc)\n"
   ]
  },
  {
   "cell_type": "code",
   "execution_count": null,
   "metadata": {},
   "outputs": [
    {
     "data": {
      "image/png": "[encoded data removed]",
      "text/plain": [
       "<Figure size 864x432 with 2 Axes>"
      ]
     },
     "metadata": {
      "needs_background": "light"
     },
     "output_type": "display_data"
    }
   ],
   "source": [
    "fig, axes = plt.subplots(1, 2, figsize=(12, 6))\n",
    "axes[0].plot(train_loss_history)\n",
    "axes[0].set_xlabel(\"epoch\")\n",
    "axes[0].set_ylabel(\"loss\")\n",
    "\n",
    "\n",
    "axes[1].plot(train_acc_history)\n",
    "axes[1].set_xlabel(\"epoch\", size=14)\n",
    "axes[1].set_ylabel(\"acc\", size=14)\n",
    "\n",
    "fig.savefig(\"90.png\")\n"
   ]
  },
  {
   "cell_type": "code",
   "execution_count": null,
   "metadata": {},
   "outputs": [],
   "source": [
    "test_predicted = model.predict(test_X)\n",
    "submit_df = pd.DataFrame({\"y\": test_predicted})\n",
    "submit_df.reset_index(drop=True)\n",
    "submit_df.index += 1\n",
    "submit_df.index.name = \"id\"\n",
    "submit_df.to_csv(\"submission.csv\")"
   ]
  },
  {
   "cell_type": "code",
   "execution_count": null,
   "metadata": {},
   "outputs": [],
   "source": []
  },
  {
   "cell_type": "code",
   "execution_count": null,
   "metadata": {},
   "outputs": [],
   "source": []
  }
 ],
 "metadata": {
  "kernelspec": {
   "display_name": "Python 3",
   "language": "python",
   "name": "python3"
  },
  "language_info": {
   "codemirror_mode": {
    "name": "ipython",
    "version": 3
   },
   "file_extension": ".py",
   "mimetype": "text/x-python",
   "name": "python",
   "nbconvert_exporter": "python",
   "pygments_lexer": "ipython3",
   "version": "3.8.2"
  },
  "orig_nbformat": 4
 },
 "nbformat": 4,
 "nbformat_minor": 2
}
